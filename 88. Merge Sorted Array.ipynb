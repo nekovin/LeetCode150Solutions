{
 "cells": [
  {
   "cell_type": "code",
   "execution_count": null,
   "metadata": {},
   "outputs": [],
   "source": [
    "class Solution:\n",
    "    def merge(self, nums1: List[int], m: int, nums2: List[int], n: int) -> None:\n",
    "        for i in range(n):\n",
    "            nums1[m + i] = nums2[i]\n",
    "        \n",
    "        for i in range(len(nums1)):\n",
    "            for j in range(i+1, len(nums1)):\n",
    "                if nums1[i] > nums1[j]:\n",
    "                    nums1[i], nums1[j] = nums1[j], nums1[i]"
   ]
  }
 ],
 "metadata": {
  "language_info": {
   "name": "python"
  }
 },
 "nbformat": 4,
 "nbformat_minor": 2
}
