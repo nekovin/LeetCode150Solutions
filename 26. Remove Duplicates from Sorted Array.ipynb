{
 "cells": [
  {
   "cell_type": "code",
   "execution_count": null,
   "metadata": {},
   "outputs": [],
   "source": [
    "class Solution:\n",
    "    def removeDuplicates(self, nums: List[int]) -> int:\n",
    "        i = 0\n",
    "\n",
    "        for j in range(1, len(nums)):\n",
    "            if nums[i] != nums[j]:\n",
    "                i += 1\n",
    "                nums[i] = nums[j]\n",
    "        print(nums)\n",
    "        return i + 1"
   ]
  }
 ],
 "metadata": {
  "language_info": {
   "name": "python"
  }
 },
 "nbformat": 4,
 "nbformat_minor": 2
}
